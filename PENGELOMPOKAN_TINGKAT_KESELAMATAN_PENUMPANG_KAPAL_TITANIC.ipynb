{
  "nbformat": 4,
  "nbformat_minor": 0,
  "metadata": {
    "colab": {
      "name": "PENGELOMPOKAN TINGKAT KESELAMATAN PENUMPANG KAPAL TITANIC.ipynb",
      "provenance": [],
      "authorship_tag": "ABX9TyOMZliyAkyCppwdb8adkvHZ",
      "include_colab_link": true
    },
    "kernelspec": {
      "name": "python3",
      "display_name": "Python 3"
    },
    "language_info": {
      "name": "python"
    }
  },
  "cells": [
    {
      "cell_type": "markdown",
      "metadata": {
        "id": "view-in-github",
        "colab_type": "text"
      },
      "source": [
        "<a href=\"https://colab.research.google.com/github/AlfindoRizkiSubekti/PROJEK_DATAMINING_TITANIC_DATASET/blob/main/PENGELOMPOKAN_TINGKAT_KESELAMATAN_PENUMPANG_KAPAL_TITANIC.ipynb\" target=\"_parent\"><img src=\"https://colab.research.google.com/assets/colab-badge.svg\" alt=\"Open In Colab\"/></a>"
      ]
    },
    {
      "cell_type": "code",
      "metadata": {
        "id": "p6KSW6QmfYm3"
      },
      "source": [
        "import numpy as np \n",
        "import pandas as pd \n",
        "import matplotlib.pyplot as plt \n",
        "%matplotlib inline\n",
        "\n"
      ],
      "execution_count": 3,
      "outputs": []
    },
    {
      "cell_type": "code",
      "metadata": {
        "colab": {
          "base_uri": "https://localhost:8080/",
          "height": 220
        },
        "id": "x60k9PftfsZP",
        "outputId": "83c09157-b850-47a5-bcf0-52e48cf2f7c1"
      },
      "source": [
        "Titanic = 'Titanic_Dataset.csv'\n",
        "\n",
        "titanic = pd.read_csv(Titanic)\n",
        "print('The shape of the dataframe is:',titanic.shape)\n",
        "titanic.head()"
      ],
      "execution_count": 4,
      "outputs": [
        {
          "output_type": "stream",
          "text": [
            "The shape of the dataframe is: (891, 12)\n"
          ],
          "name": "stdout"
        },
        {
          "output_type": "execute_result",
          "data": {
            "text/html": [
              "<div>\n",
              "<style scoped>\n",
              "    .dataframe tbody tr th:only-of-type {\n",
              "        vertical-align: middle;\n",
              "    }\n",
              "\n",
              "    .dataframe tbody tr th {\n",
              "        vertical-align: top;\n",
              "    }\n",
              "\n",
              "    .dataframe thead th {\n",
              "        text-align: right;\n",
              "    }\n",
              "</style>\n",
              "<table border=\"1\" class=\"dataframe\">\n",
              "  <thead>\n",
              "    <tr style=\"text-align: right;\">\n",
              "      <th></th>\n",
              "      <th>Passenger_Id</th>\n",
              "      <th>Survived</th>\n",
              "      <th>Pclass</th>\n",
              "      <th>Full_Name</th>\n",
              "      <th>Sex</th>\n",
              "      <th>Age</th>\n",
              "      <th>SibSp</th>\n",
              "      <th>Parch</th>\n",
              "      <th>Ticket</th>\n",
              "      <th>Fare</th>\n",
              "      <th>Cabin</th>\n",
              "      <th>Embarked</th>\n",
              "    </tr>\n",
              "  </thead>\n",
              "  <tbody>\n",
              "    <tr>\n",
              "      <th>0</th>\n",
              "      <td>1</td>\n",
              "      <td>0</td>\n",
              "      <td>3</td>\n",
              "      <td>Braund, Mr. Owen Harris</td>\n",
              "      <td>male</td>\n",
              "      <td>22.0</td>\n",
              "      <td>1</td>\n",
              "      <td>0</td>\n",
              "      <td>A/5 21171</td>\n",
              "      <td>7.2500</td>\n",
              "      <td>NaN</td>\n",
              "      <td>S</td>\n",
              "    </tr>\n",
              "    <tr>\n",
              "      <th>1</th>\n",
              "      <td>2</td>\n",
              "      <td>1</td>\n",
              "      <td>1</td>\n",
              "      <td>Cumings, Mrs. John Bradley (Florence Briggs Th...</td>\n",
              "      <td>female</td>\n",
              "      <td>38.0</td>\n",
              "      <td>1</td>\n",
              "      <td>0</td>\n",
              "      <td>PC 17599</td>\n",
              "      <td>71.2833</td>\n",
              "      <td>C85</td>\n",
              "      <td>C</td>\n",
              "    </tr>\n",
              "    <tr>\n",
              "      <th>2</th>\n",
              "      <td>3</td>\n",
              "      <td>1</td>\n",
              "      <td>3</td>\n",
              "      <td>Heikkinen, Miss. Laina</td>\n",
              "      <td>female</td>\n",
              "      <td>26.0</td>\n",
              "      <td>0</td>\n",
              "      <td>0</td>\n",
              "      <td>STON/O2. 3101282</td>\n",
              "      <td>7.9250</td>\n",
              "      <td>NaN</td>\n",
              "      <td>S</td>\n",
              "    </tr>\n",
              "    <tr>\n",
              "      <th>3</th>\n",
              "      <td>4</td>\n",
              "      <td>1</td>\n",
              "      <td>1</td>\n",
              "      <td>Futrelle, Mrs. Jacques Heath (Lily May Peel)</td>\n",
              "      <td>female</td>\n",
              "      <td>35.0</td>\n",
              "      <td>1</td>\n",
              "      <td>0</td>\n",
              "      <td>113803</td>\n",
              "      <td>53.1000</td>\n",
              "      <td>C123</td>\n",
              "      <td>S</td>\n",
              "    </tr>\n",
              "    <tr>\n",
              "      <th>4</th>\n",
              "      <td>5</td>\n",
              "      <td>0</td>\n",
              "      <td>3</td>\n",
              "      <td>Allen, Mr. William Henry</td>\n",
              "      <td>male</td>\n",
              "      <td>35.0</td>\n",
              "      <td>0</td>\n",
              "      <td>0</td>\n",
              "      <td>373450</td>\n",
              "      <td>8.0500</td>\n",
              "      <td>NaN</td>\n",
              "      <td>S</td>\n",
              "    </tr>\n",
              "  </tbody>\n",
              "</table>\n",
              "</div>"
            ],
            "text/plain": [
              "   Passenger_Id  Survived  Pclass  ...     Fare Cabin  Embarked\n",
              "0             1         0       3  ...   7.2500   NaN         S\n",
              "1             2         1       1  ...  71.2833   C85         C\n",
              "2             3         1       3  ...   7.9250   NaN         S\n",
              "3             4         1       1  ...  53.1000  C123         S\n",
              "4             5         0       3  ...   8.0500   NaN         S\n",
              "\n",
              "[5 rows x 12 columns]"
            ]
          },
          "metadata": {
            "tags": []
          },
          "execution_count": 4
        }
      ]
    },
    {
      "cell_type": "code",
      "metadata": {
        "colab": {
          "base_uri": "https://localhost:8080/",
          "height": 203
        },
        "id": "ud81jXq9hD52",
        "outputId": "afb50b29-7744-462c-f152-dd9a4ce1d1d6"
      },
      "source": [
        "titanic['Survived'] = titanic['Survived'].replace([0,1],['perished' , 'survived'])\n",
        "titanic.head()"
      ],
      "execution_count": 5,
      "outputs": [
        {
          "output_type": "execute_result",
          "data": {
            "text/html": [
              "<div>\n",
              "<style scoped>\n",
              "    .dataframe tbody tr th:only-of-type {\n",
              "        vertical-align: middle;\n",
              "    }\n",
              "\n",
              "    .dataframe tbody tr th {\n",
              "        vertical-align: top;\n",
              "    }\n",
              "\n",
              "    .dataframe thead th {\n",
              "        text-align: right;\n",
              "    }\n",
              "</style>\n",
              "<table border=\"1\" class=\"dataframe\">\n",
              "  <thead>\n",
              "    <tr style=\"text-align: right;\">\n",
              "      <th></th>\n",
              "      <th>Passenger_Id</th>\n",
              "      <th>Survived</th>\n",
              "      <th>Pclass</th>\n",
              "      <th>Full_Name</th>\n",
              "      <th>Sex</th>\n",
              "      <th>Age</th>\n",
              "      <th>SibSp</th>\n",
              "      <th>Parch</th>\n",
              "      <th>Ticket</th>\n",
              "      <th>Fare</th>\n",
              "      <th>Cabin</th>\n",
              "      <th>Embarked</th>\n",
              "    </tr>\n",
              "  </thead>\n",
              "  <tbody>\n",
              "    <tr>\n",
              "      <th>0</th>\n",
              "      <td>1</td>\n",
              "      <td>perished</td>\n",
              "      <td>3</td>\n",
              "      <td>Braund, Mr. Owen Harris</td>\n",
              "      <td>male</td>\n",
              "      <td>22.0</td>\n",
              "      <td>1</td>\n",
              "      <td>0</td>\n",
              "      <td>A/5 21171</td>\n",
              "      <td>7.2500</td>\n",
              "      <td>NaN</td>\n",
              "      <td>S</td>\n",
              "    </tr>\n",
              "    <tr>\n",
              "      <th>1</th>\n",
              "      <td>2</td>\n",
              "      <td>survived</td>\n",
              "      <td>1</td>\n",
              "      <td>Cumings, Mrs. John Bradley (Florence Briggs Th...</td>\n",
              "      <td>female</td>\n",
              "      <td>38.0</td>\n",
              "      <td>1</td>\n",
              "      <td>0</td>\n",
              "      <td>PC 17599</td>\n",
              "      <td>71.2833</td>\n",
              "      <td>C85</td>\n",
              "      <td>C</td>\n",
              "    </tr>\n",
              "    <tr>\n",
              "      <th>2</th>\n",
              "      <td>3</td>\n",
              "      <td>survived</td>\n",
              "      <td>3</td>\n",
              "      <td>Heikkinen, Miss. Laina</td>\n",
              "      <td>female</td>\n",
              "      <td>26.0</td>\n",
              "      <td>0</td>\n",
              "      <td>0</td>\n",
              "      <td>STON/O2. 3101282</td>\n",
              "      <td>7.9250</td>\n",
              "      <td>NaN</td>\n",
              "      <td>S</td>\n",
              "    </tr>\n",
              "    <tr>\n",
              "      <th>3</th>\n",
              "      <td>4</td>\n",
              "      <td>survived</td>\n",
              "      <td>1</td>\n",
              "      <td>Futrelle, Mrs. Jacques Heath (Lily May Peel)</td>\n",
              "      <td>female</td>\n",
              "      <td>35.0</td>\n",
              "      <td>1</td>\n",
              "      <td>0</td>\n",
              "      <td>113803</td>\n",
              "      <td>53.1000</td>\n",
              "      <td>C123</td>\n",
              "      <td>S</td>\n",
              "    </tr>\n",
              "    <tr>\n",
              "      <th>4</th>\n",
              "      <td>5</td>\n",
              "      <td>perished</td>\n",
              "      <td>3</td>\n",
              "      <td>Allen, Mr. William Henry</td>\n",
              "      <td>male</td>\n",
              "      <td>35.0</td>\n",
              "      <td>0</td>\n",
              "      <td>0</td>\n",
              "      <td>373450</td>\n",
              "      <td>8.0500</td>\n",
              "      <td>NaN</td>\n",
              "      <td>S</td>\n",
              "    </tr>\n",
              "  </tbody>\n",
              "</table>\n",
              "</div>"
            ],
            "text/plain": [
              "   Passenger_Id  Survived  Pclass  ...     Fare Cabin  Embarked\n",
              "0             1  perished       3  ...   7.2500   NaN         S\n",
              "1             2  survived       1  ...  71.2833   C85         C\n",
              "2             3  survived       3  ...   7.9250   NaN         S\n",
              "3             4  survived       1  ...  53.1000  C123         S\n",
              "4             5  perished       3  ...   8.0500   NaN         S\n",
              "\n",
              "[5 rows x 12 columns]"
            ]
          },
          "metadata": {
            "tags": []
          },
          "execution_count": 5
        }
      ]
    },
    {
      "cell_type": "code",
      "metadata": {
        "colab": {
          "base_uri": "https://localhost:8080/",
          "height": 203
        },
        "id": "tbsFWZFzhI6L",
        "outputId": "7fca9bf2-008a-4386-e8cb-0df359bd99ba"
      },
      "source": [
        "titanic.head()"
      ],
      "execution_count": 6,
      "outputs": [
        {
          "output_type": "execute_result",
          "data": {
            "text/html": [
              "<div>\n",
              "<style scoped>\n",
              "    .dataframe tbody tr th:only-of-type {\n",
              "        vertical-align: middle;\n",
              "    }\n",
              "\n",
              "    .dataframe tbody tr th {\n",
              "        vertical-align: top;\n",
              "    }\n",
              "\n",
              "    .dataframe thead th {\n",
              "        text-align: right;\n",
              "    }\n",
              "</style>\n",
              "<table border=\"1\" class=\"dataframe\">\n",
              "  <thead>\n",
              "    <tr style=\"text-align: right;\">\n",
              "      <th></th>\n",
              "      <th>Passenger_Id</th>\n",
              "      <th>Survived</th>\n",
              "      <th>Pclass</th>\n",
              "      <th>Full_Name</th>\n",
              "      <th>Sex</th>\n",
              "      <th>Age</th>\n",
              "      <th>SibSp</th>\n",
              "      <th>Parch</th>\n",
              "      <th>Ticket</th>\n",
              "      <th>Fare</th>\n",
              "      <th>Cabin</th>\n",
              "      <th>Embarked</th>\n",
              "    </tr>\n",
              "  </thead>\n",
              "  <tbody>\n",
              "    <tr>\n",
              "      <th>0</th>\n",
              "      <td>1</td>\n",
              "      <td>perished</td>\n",
              "      <td>3</td>\n",
              "      <td>Braund, Mr. Owen Harris</td>\n",
              "      <td>male</td>\n",
              "      <td>22.0</td>\n",
              "      <td>1</td>\n",
              "      <td>0</td>\n",
              "      <td>A/5 21171</td>\n",
              "      <td>7.2500</td>\n",
              "      <td>NaN</td>\n",
              "      <td>S</td>\n",
              "    </tr>\n",
              "    <tr>\n",
              "      <th>1</th>\n",
              "      <td>2</td>\n",
              "      <td>survived</td>\n",
              "      <td>1</td>\n",
              "      <td>Cumings, Mrs. John Bradley (Florence Briggs Th...</td>\n",
              "      <td>female</td>\n",
              "      <td>38.0</td>\n",
              "      <td>1</td>\n",
              "      <td>0</td>\n",
              "      <td>PC 17599</td>\n",
              "      <td>71.2833</td>\n",
              "      <td>C85</td>\n",
              "      <td>C</td>\n",
              "    </tr>\n",
              "    <tr>\n",
              "      <th>2</th>\n",
              "      <td>3</td>\n",
              "      <td>survived</td>\n",
              "      <td>3</td>\n",
              "      <td>Heikkinen, Miss. Laina</td>\n",
              "      <td>female</td>\n",
              "      <td>26.0</td>\n",
              "      <td>0</td>\n",
              "      <td>0</td>\n",
              "      <td>STON/O2. 3101282</td>\n",
              "      <td>7.9250</td>\n",
              "      <td>NaN</td>\n",
              "      <td>S</td>\n",
              "    </tr>\n",
              "    <tr>\n",
              "      <th>3</th>\n",
              "      <td>4</td>\n",
              "      <td>survived</td>\n",
              "      <td>1</td>\n",
              "      <td>Futrelle, Mrs. Jacques Heath (Lily May Peel)</td>\n",
              "      <td>female</td>\n",
              "      <td>35.0</td>\n",
              "      <td>1</td>\n",
              "      <td>0</td>\n",
              "      <td>113803</td>\n",
              "      <td>53.1000</td>\n",
              "      <td>C123</td>\n",
              "      <td>S</td>\n",
              "    </tr>\n",
              "    <tr>\n",
              "      <th>4</th>\n",
              "      <td>5</td>\n",
              "      <td>perished</td>\n",
              "      <td>3</td>\n",
              "      <td>Allen, Mr. William Henry</td>\n",
              "      <td>male</td>\n",
              "      <td>35.0</td>\n",
              "      <td>0</td>\n",
              "      <td>0</td>\n",
              "      <td>373450</td>\n",
              "      <td>8.0500</td>\n",
              "      <td>NaN</td>\n",
              "      <td>S</td>\n",
              "    </tr>\n",
              "  </tbody>\n",
              "</table>\n",
              "</div>"
            ],
            "text/plain": [
              "   Passenger_Id  Survived  Pclass  ...     Fare Cabin  Embarked\n",
              "0             1  perished       3  ...   7.2500   NaN         S\n",
              "1             2  survived       1  ...  71.2833   C85         C\n",
              "2             3  survived       3  ...   7.9250   NaN         S\n",
              "3             4  survived       1  ...  53.1000  C123         S\n",
              "4             5  perished       3  ...   8.0500   NaN         S\n",
              "\n",
              "[5 rows x 12 columns]"
            ]
          },
          "metadata": {
            "tags": []
          },
          "execution_count": 6
        }
      ]
    },
    {
      "cell_type": "code",
      "metadata": {
        "colab": {
          "base_uri": "https://localhost:8080/",
          "height": 388
        },
        "id": "lOzqQoiphM2D",
        "outputId": "21ceba0d-dd92-4c4f-c274-20efaa60ccab"
      },
      "source": [
        "titanic.describe(include='all')"
      ],
      "execution_count": 7,
      "outputs": [
        {
          "output_type": "execute_result",
          "data": {
            "text/html": [
              "<div>\n",
              "<style scoped>\n",
              "    .dataframe tbody tr th:only-of-type {\n",
              "        vertical-align: middle;\n",
              "    }\n",
              "\n",
              "    .dataframe tbody tr th {\n",
              "        vertical-align: top;\n",
              "    }\n",
              "\n",
              "    .dataframe thead th {\n",
              "        text-align: right;\n",
              "    }\n",
              "</style>\n",
              "<table border=\"1\" class=\"dataframe\">\n",
              "  <thead>\n",
              "    <tr style=\"text-align: right;\">\n",
              "      <th></th>\n",
              "      <th>Passenger_Id</th>\n",
              "      <th>Survived</th>\n",
              "      <th>Pclass</th>\n",
              "      <th>Full_Name</th>\n",
              "      <th>Sex</th>\n",
              "      <th>Age</th>\n",
              "      <th>SibSp</th>\n",
              "      <th>Parch</th>\n",
              "      <th>Ticket</th>\n",
              "      <th>Fare</th>\n",
              "      <th>Cabin</th>\n",
              "      <th>Embarked</th>\n",
              "    </tr>\n",
              "  </thead>\n",
              "  <tbody>\n",
              "    <tr>\n",
              "      <th>count</th>\n",
              "      <td>891.000000</td>\n",
              "      <td>891</td>\n",
              "      <td>891.000000</td>\n",
              "      <td>891</td>\n",
              "      <td>891</td>\n",
              "      <td>714.000000</td>\n",
              "      <td>891.000000</td>\n",
              "      <td>891.000000</td>\n",
              "      <td>891</td>\n",
              "      <td>891.000000</td>\n",
              "      <td>204</td>\n",
              "      <td>889</td>\n",
              "    </tr>\n",
              "    <tr>\n",
              "      <th>unique</th>\n",
              "      <td>NaN</td>\n",
              "      <td>2</td>\n",
              "      <td>NaN</td>\n",
              "      <td>891</td>\n",
              "      <td>2</td>\n",
              "      <td>NaN</td>\n",
              "      <td>NaN</td>\n",
              "      <td>NaN</td>\n",
              "      <td>681</td>\n",
              "      <td>NaN</td>\n",
              "      <td>147</td>\n",
              "      <td>3</td>\n",
              "    </tr>\n",
              "    <tr>\n",
              "      <th>top</th>\n",
              "      <td>NaN</td>\n",
              "      <td>perished</td>\n",
              "      <td>NaN</td>\n",
              "      <td>West, Miss. Constance Mirium</td>\n",
              "      <td>male</td>\n",
              "      <td>NaN</td>\n",
              "      <td>NaN</td>\n",
              "      <td>NaN</td>\n",
              "      <td>CA. 2343</td>\n",
              "      <td>NaN</td>\n",
              "      <td>B96 B98</td>\n",
              "      <td>S</td>\n",
              "    </tr>\n",
              "    <tr>\n",
              "      <th>freq</th>\n",
              "      <td>NaN</td>\n",
              "      <td>549</td>\n",
              "      <td>NaN</td>\n",
              "      <td>1</td>\n",
              "      <td>577</td>\n",
              "      <td>NaN</td>\n",
              "      <td>NaN</td>\n",
              "      <td>NaN</td>\n",
              "      <td>7</td>\n",
              "      <td>NaN</td>\n",
              "      <td>4</td>\n",
              "      <td>644</td>\n",
              "    </tr>\n",
              "    <tr>\n",
              "      <th>mean</th>\n",
              "      <td>446.000000</td>\n",
              "      <td>NaN</td>\n",
              "      <td>2.308642</td>\n",
              "      <td>NaN</td>\n",
              "      <td>NaN</td>\n",
              "      <td>29.699118</td>\n",
              "      <td>0.523008</td>\n",
              "      <td>0.381594</td>\n",
              "      <td>NaN</td>\n",
              "      <td>32.204208</td>\n",
              "      <td>NaN</td>\n",
              "      <td>NaN</td>\n",
              "    </tr>\n",
              "    <tr>\n",
              "      <th>std</th>\n",
              "      <td>257.353842</td>\n",
              "      <td>NaN</td>\n",
              "      <td>0.836071</td>\n",
              "      <td>NaN</td>\n",
              "      <td>NaN</td>\n",
              "      <td>14.526497</td>\n",
              "      <td>1.102743</td>\n",
              "      <td>0.806057</td>\n",
              "      <td>NaN</td>\n",
              "      <td>49.693429</td>\n",
              "      <td>NaN</td>\n",
              "      <td>NaN</td>\n",
              "    </tr>\n",
              "    <tr>\n",
              "      <th>min</th>\n",
              "      <td>1.000000</td>\n",
              "      <td>NaN</td>\n",
              "      <td>1.000000</td>\n",
              "      <td>NaN</td>\n",
              "      <td>NaN</td>\n",
              "      <td>0.420000</td>\n",
              "      <td>0.000000</td>\n",
              "      <td>0.000000</td>\n",
              "      <td>NaN</td>\n",
              "      <td>0.000000</td>\n",
              "      <td>NaN</td>\n",
              "      <td>NaN</td>\n",
              "    </tr>\n",
              "    <tr>\n",
              "      <th>25%</th>\n",
              "      <td>223.500000</td>\n",
              "      <td>NaN</td>\n",
              "      <td>2.000000</td>\n",
              "      <td>NaN</td>\n",
              "      <td>NaN</td>\n",
              "      <td>20.125000</td>\n",
              "      <td>0.000000</td>\n",
              "      <td>0.000000</td>\n",
              "      <td>NaN</td>\n",
              "      <td>7.910400</td>\n",
              "      <td>NaN</td>\n",
              "      <td>NaN</td>\n",
              "    </tr>\n",
              "    <tr>\n",
              "      <th>50%</th>\n",
              "      <td>446.000000</td>\n",
              "      <td>NaN</td>\n",
              "      <td>3.000000</td>\n",
              "      <td>NaN</td>\n",
              "      <td>NaN</td>\n",
              "      <td>28.000000</td>\n",
              "      <td>0.000000</td>\n",
              "      <td>0.000000</td>\n",
              "      <td>NaN</td>\n",
              "      <td>14.454200</td>\n",
              "      <td>NaN</td>\n",
              "      <td>NaN</td>\n",
              "    </tr>\n",
              "    <tr>\n",
              "      <th>75%</th>\n",
              "      <td>668.500000</td>\n",
              "      <td>NaN</td>\n",
              "      <td>3.000000</td>\n",
              "      <td>NaN</td>\n",
              "      <td>NaN</td>\n",
              "      <td>38.000000</td>\n",
              "      <td>1.000000</td>\n",
              "      <td>0.000000</td>\n",
              "      <td>NaN</td>\n",
              "      <td>31.000000</td>\n",
              "      <td>NaN</td>\n",
              "      <td>NaN</td>\n",
              "    </tr>\n",
              "    <tr>\n",
              "      <th>max</th>\n",
              "      <td>891.000000</td>\n",
              "      <td>NaN</td>\n",
              "      <td>3.000000</td>\n",
              "      <td>NaN</td>\n",
              "      <td>NaN</td>\n",
              "      <td>80.000000</td>\n",
              "      <td>8.000000</td>\n",
              "      <td>6.000000</td>\n",
              "      <td>NaN</td>\n",
              "      <td>512.329200</td>\n",
              "      <td>NaN</td>\n",
              "      <td>NaN</td>\n",
              "    </tr>\n",
              "  </tbody>\n",
              "</table>\n",
              "</div>"
            ],
            "text/plain": [
              "        Passenger_Id  Survived      Pclass  ...        Fare    Cabin  Embarked\n",
              "count     891.000000       891  891.000000  ...  891.000000      204       889\n",
              "unique           NaN         2         NaN  ...         NaN      147         3\n",
              "top              NaN  perished         NaN  ...         NaN  B96 B98         S\n",
              "freq             NaN       549         NaN  ...         NaN        4       644\n",
              "mean      446.000000       NaN    2.308642  ...   32.204208      NaN       NaN\n",
              "std       257.353842       NaN    0.836071  ...   49.693429      NaN       NaN\n",
              "min         1.000000       NaN    1.000000  ...    0.000000      NaN       NaN\n",
              "25%       223.500000       NaN    2.000000  ...    7.910400      NaN       NaN\n",
              "50%       446.000000       NaN    3.000000  ...   14.454200      NaN       NaN\n",
              "75%       668.500000       NaN    3.000000  ...   31.000000      NaN       NaN\n",
              "max       891.000000       NaN    3.000000  ...  512.329200      NaN       NaN\n",
              "\n",
              "[11 rows x 12 columns]"
            ]
          },
          "metadata": {
            "tags": []
          },
          "execution_count": 7
        }
      ]
    },
    {
      "cell_type": "code",
      "metadata": {
        "colab": {
          "base_uri": "https://localhost:8080/"
        },
        "id": "2eEJjWGhhOl-",
        "outputId": "f2ff6204-b83c-4b6b-96ad-22f2aa988105"
      },
      "source": [
        "titanic['Survived'].value_counts()"
      ],
      "execution_count": 8,
      "outputs": [
        {
          "output_type": "execute_result",
          "data": {
            "text/plain": [
              "perished    549\n",
              "survived    342\n",
              "Name: Survived, dtype: int64"
            ]
          },
          "metadata": {
            "tags": []
          },
          "execution_count": 8
        }
      ]
    },
    {
      "cell_type": "code",
      "metadata": {
        "colab": {
          "base_uri": "https://localhost:8080/",
          "height": 316
        },
        "id": "4s6Q-0evhWi_",
        "outputId": "e8f4de4e-f8be-4e59-9f39-d3592bca856c"
      },
      "source": [
        "titanic['Survived'].value_counts().plot(kind=\"bar\")"
      ],
      "execution_count": 9,
      "outputs": [
        {
          "output_type": "execute_result",
          "data": {
            "text/plain": [
              "<matplotlib.axes._subplots.AxesSubplot at 0x7f5b83afe250>"
            ]
          },
          "metadata": {
            "tags": []
          },
          "execution_count": 9
        },
        {
          "output_type": "display_data",
          "data": {
            "image/png": "[encoded data removed]",
            "text/plain": [
              "<Figure size 432x288 with 1 Axes>"
            ]
          },
          "metadata": {
            "tags": [],
            "needs_background": "light"
          }
        }
      ]
    },
    {
      "cell_type": "code",
      "metadata": {
        "colab": {
          "base_uri": "https://localhost:8080/",
          "height": 359
        },
        "id": "0UISPA2phajO",
        "outputId": "19e3ce16-378d-408b-da78-06b5ca02d1fa"
      },
      "source": [
        "titanic['Survived'].value_counts().plot(kind=\"bar\",color=['salmon', 'turquoise'])\n",
        "plt.suptitle(\"Tingkat Keselamatan Penumpang Titanic\", fontsize=16)\n",
        "plt.xlabel('Survived')\n",
        "plt.ylabel('Nº_Passengers')"
      ],
      "execution_count": 10,
      "outputs": [
        {
          "output_type": "execute_result",
          "data": {
            "text/plain": [
              "Text(0, 0.5, 'Nº_Passengers')"
            ]
          },
          "metadata": {
            "tags": []
          },
          "execution_count": 10
        },
        {
          "output_type": "display_data",
          "data": {
            "image/png": "[encoded data removed]",
            "text/plain": [
              "<Figure size 432x288 with 1 Axes>"
            ]
          },
          "metadata": {
            "tags": [],
            "needs_background": "light"
          }
        }
      ]
    },
    {
      "cell_type": "code",
      "metadata": {
        "colab": {
          "base_uri": "https://localhost:8080/"
        },
        "id": "m7pEJVjdhdzf",
        "outputId": "30866e27-cb31-4f9f-d206-96f2fa5aff6f"
      },
      "source": [
        "SurvivalRate = titanic['Survived'].value_counts(normalize=True) * 100\n",
        "SurvivalRate"
      ],
      "execution_count": 11,
      "outputs": [
        {
          "output_type": "execute_result",
          "data": {
            "text/plain": [
              "perished    61.616162\n",
              "survived    38.383838\n",
              "Name: Survived, dtype: float64"
            ]
          },
          "metadata": {
            "tags": []
          },
          "execution_count": 11
        }
      ]
    },
    {
      "cell_type": "code",
      "metadata": {
        "colab": {
          "base_uri": "https://localhost:8080/",
          "height": 345
        },
        "id": "X4HD-YHIhhI_",
        "outputId": "eee72f3e-7cea-4d20-f078-601977f6dce1"
      },
      "source": [
        "Female = titanic[titanic['Sex']=='female']['Survived'].value_counts()\n",
        "Male = titanic[titanic['Sex']=='male']['Survived'].value_counts()\n",
        "\n",
        "df = pd.DataFrame([Female,Male]) \n",
        "df.index=['Perempuan','Laki-Laki'] \n",
        "df.plot(kind='bar',stacked=True,fig=(18,6),title= \"Tingkat Keselamatan Penumpang Titanic berdasarkan Jenis Kelamin\", color=['turquoise','salmon'])"
      ],
      "execution_count": 12,
      "outputs": [
        {
          "output_type": "execute_result",
          "data": {
            "text/plain": [
              "<matplotlib.axes._subplots.AxesSubplot at 0x7f5b83594a90>"
            ]
          },
          "metadata": {
            "tags": []
          },
          "execution_count": 12
        },
        {
          "output_type": "display_data",
          "data": {
            "image/png": "[encoded data removed]",
            "text/plain": [
              "<Figure size 432x288 with 1 Axes>"
            ]
          },
          "metadata": {
            "tags": [],
            "needs_background": "light"
          }
        }
      ]
    },
    {
      "cell_type": "code",
      "metadata": {
        "colab": {
          "base_uri": "https://localhost:8080/",
          "height": 359
        },
        "id": "SAs6tiEehkeB",
        "outputId": "85524e4e-0e1f-4cfc-f161-1531f1449f6c"
      },
      "source": [
        "First = titanic[titanic['Pclass']==1]['Survived'].value_counts()\n",
        "Second = titanic[titanic['Pclass']==2]['Survived'].value_counts()\n",
        "Third = titanic[titanic['Pclass']==3]['Survived'].value_counts()\n",
        "\n",
        "df2 = pd.DataFrame([First,Second,Third])\n",
        "df2.index=['kelas pertama','kelas kedua','kelas ketiga']\n",
        "df2.plot(kind='bar',stacked=True,fig=(18,6),title= \"Tingkat Keselamatan Penumpang Titanic berdasarkan Kelas Tiket\",color=['turquoise','salmon'])\n",
        "plt.ylabel('Nº_Passengers')"
      ],
      "execution_count": 13,
      "outputs": [
        {
          "output_type": "execute_result",
          "data": {
            "text/plain": [
              "Text(0, 0.5, 'Nº_Passengers')"
            ]
          },
          "metadata": {
            "tags": []
          },
          "execution_count": 13
        },
        {
          "output_type": "display_data",
          "data": {
            "image/png": "[encoded data removed]",
            "text/plain": [
              "<Figure size 432x288 with 1 Axes>"
            ]
          },
          "metadata": {
            "tags": [],
            "needs_background": "light"
          }
        }
      ]
    },
    {
      "cell_type": "code",
      "metadata": {
        "colab": {
          "base_uri": "https://localhost:8080/",
          "height": 341
        },
        "id": "USVtCPp5hqIn",
        "outputId": "21f0d1f2-a43c-42fc-a671-a49870bf1aa6"
      },
      "source": [
        "Class1 = titanic[titanic['Pclass']==1].copy()\n",
        "\n",
        "Female1 = Class1[Class1['Sex']=='female']['Survived'].value_counts()\n",
        "Male1 = Class1[Class1['Sex']=='male']['Survived'].value_counts()\n",
        "\n",
        "df = pd.DataFrame([Female1,Male1]) \n",
        "df.index=['perempuan','laki-laki'] \n",
        "\n",
        "Class2 = titanic[titanic['Pclass']==2].copy()\n",
        "\n",
        "Female2 = Class2[Class2['Sex']=='female']['Survived'].value_counts()\n",
        "Male2 = Class2[Class2['Sex']=='male']['Survived'].value_counts()\n",
        "\n",
        "df2 = pd.DataFrame([Female2,Male2])\n",
        "df2.index=['perempuan','laki-laki'] \n",
        "\n",
        "\n",
        "\n",
        "Class3 = titanic[titanic['Pclass']==3].copy()\n",
        "\n",
        "Female3 = Class3[Class3['Sex']=='female']['Survived'].value_counts()\n",
        "Male3 = Class3[Class3['Sex']=='male']['Survived'].value_counts()\n",
        "\n",
        "df3 = pd.DataFrame([Female3,Male3]) \n",
        "df3.index=['perempuan','laki-laki']\n",
        "\n",
        "\n",
        "fig, axes = plt.subplots(nrows=1, ncols=3, sharey=True)\n",
        "plt.gcf().suptitle('Tingkat Keselamatan Penumpang Titanic Kelas, dan Jenis Kelamin')\n",
        "\n",
        "df.plot(ax=axes[0],kind='bar',stacked=True,fig=(18,6),title= \"kelas pertama\", color=['turquoise','salmon'])\n",
        "df2.plot(ax=axes[1],kind='bar',stacked=True,fig=(18,6),title= \"kelas kedua\", color=['turquoise','salmon'],legend=False)\n",
        "df3.plot(ax=axes[2],kind='bar',stacked=True,fig=(18,6),title= \"kelas ketiga\", color=['salmon','turquoise'],legend=False)\n",
        "plt.show()"
      ],
      "execution_count": 14,
      "outputs": [
        {
          "output_type": "display_data",
          "data": {
            "image/png": "[encoded data removed]",
            "text/plain": [
              "<Figure size 432x288 with 3 Axes>"
            ]
          },
          "metadata": {
            "tags": [],
            "needs_background": "light"
          }
        }
      ]
    },
    {
      "cell_type": "code",
      "metadata": {
        "colab": {
          "base_uri": "https://localhost:8080/",
          "height": 890
        },
        "id": "R6jRCeDahvmm",
        "outputId": "56e9a095-2b9d-4b1e-adb3-49beab1ea20a"
      },
      "source": [
        "titanic['Age'].groupby(titanic['Survived']).plot(kind = 'hist',bins=17, alpha=0.7)\n",
        "plt.suptitle(\"Tingkat Keselamatan Penumpang Titanic berdasarkan Usia\", fontsize=16)\n",
        "plt.xlabel('Umur')\n",
        "plt.ylabel('Nº_Passengers')\n",
        "plt.legend(loc='upper right')\n",
        "plt.show()\n",
        "\n",
        "Survived = titanic[titanic['Survived']=='survived'].copy()\n",
        "Perished = titanic[titanic['Survived']=='perished'].copy()\n",
        "\n",
        "Perished['Age'].plot(kind = 'hist',bins=17, alpha=0.7,label='Perished',color=['salmon'])\n",
        "Survived['Age'].plot(kind = 'hist',bins=17, alpha=0.5,label='Survived',color=['turquoise'])\n",
        "\n",
        "plt.suptitle(\"Penumpang Titanic Berdasarkan Umur\", fontsize=16)\n",
        "plt.xlabel('Umur')\n",
        "plt.ylabel('Nº_Passengers')\n",
        "plt.legend(loc='upper right')\n",
        "plt.show()\n",
        "Perished['Age'].plot(kind = 'density', alpha=0.7,label='Perished',color=['salmon'])\n",
        "Survived['Age'].plot(kind = 'density', alpha=0.5,label='Survived',color=['turquoise'])\n",
        "\n",
        "plt.suptitle(\"Penumpang Titanic Berdasarkan Umur\", fontsize=16)\n",
        "plt.xlabel('Umur')\n",
        "plt.ylabel('Nº_Passengers')\n",
        "plt.legend(loc='upper right')\n",
        "plt.show()"
      ],
      "execution_count": 15,
      "outputs": [
        {
          "output_type": "display_data",
          "data": {
            "image/png": "[encoded data removed]",
            "text/plain": [
              "<Figure size 432x288 with 1 Axes>"
            ]
          },
          "metadata": {
            "tags": [],
            "needs_background": "light"
          }
        },
        {
          "output_type": "display_data",
          "data": {
            "image/png": "[encoded data removed]",
            "text/plain": [
              "<Figure size 432x288 with 1 Axes>"
            ]
          },
          "metadata": {
            "tags": [],
            "needs_background": "light"
          }
        },
        {
          "output_type": "display_data",
          "data": {
            "image/png": "[encoded data removed]",
            "text/plain": [
              "<Figure size 432x288 with 1 Axes>"
            ]
          },
          "metadata": {
            "tags": [],
            "needs_background": "light"
          }
        }
      ]
    },
    {
      "cell_type": "code",
      "metadata": {
        "colab": {
          "base_uri": "https://localhost:8080/",
          "height": 308
        },
        "id": "y8WXU-l5h3W5",
        "outputId": "0eb75afc-291b-4ccf-fa76-a2a6154cf647"
      },
      "source": [
        "fig, axes = plt.subplots(nrows=2, ncols=3, sharey=True, sharex=True)\n",
        "plt.gcf().suptitle('Tingkat Keselamatan Penumpang Titanic berdasarkan Usia, Kelas, dan Jenis Kelamin',fontsize=16)\n",
        "\n",
        "Class1M = Class1[Class1['Sex']=='male'].copy()\n",
        "Class1M['Age'].groupby(Class1M['Survived']).plot(ax=axes[0,0],kind = 'density', alpha=0.7,legend=True, title='kelas pertama')\n",
        "Class1F = Class1[Class1['Sex']=='female'].copy()\n",
        "Class1F['Age'].groupby(Class1F['Survived']).plot(ax=axes[1,0],kind = 'density', alpha=0.7,legend=False)\n",
        "                                                 \n",
        "\n",
        "Class2M = Class2[Class2['Sex']=='male'].copy()\n",
        "Class2M['Age'].groupby(Class2M['Survived']).plot(ax=axes[0,1],kind = 'density', alpha=0.7,legend=False, title='kelas kedua')\n",
        "Class2F = Class2[Class2['Sex']=='female'].copy()\n",
        "Class2F['Age'].groupby(Class2F['Survived']).plot(ax=axes[1,1],kind = 'density', alpha=0.7,legend=False)\n",
        "               \n",
        "\n",
        "Class3M = Class3[Class3['Sex']=='male'].copy()\n",
        "Class3M['Age'].groupby(Class3M['Survived']).plot(ax=axes[0,2],kind = 'density', alpha=0.7,legend=False, title='kelas ketiga')\n",
        "Class3F = Class3[Class3['Sex']=='female'].copy()\n",
        "Class3F['Age'].groupby(Class3F['Survived']).plot(ax=axes[1,2],kind = 'density', alpha=0.7,legend=False)\n",
        "               \n",
        "  \n",
        "plt.gcf().text(1, 0.7, 'LAKI_LAKI', style='italic', fontsize=20)    \n",
        "plt.gcf().text(1, 0.3, 'PEREMPUAN', style='italic', fontsize=20)    \n",
        "    \n",
        "plt.xlabel('UMUR')\n",
        "plt.show()"
      ],
      "execution_count": 16,
      "outputs": [
        {
          "output_type": "display_data",
          "data": {
            "image/png": "[encoded data removed]",
            "text/plain": [
              "<Figure size 432x288 with 6 Axes>"
            ]
          },
          "metadata": {
            "tags": [],
            "needs_background": "light"
          }
        }
      ]
    },
    {
      "cell_type": "code",
      "metadata": {
        "colab": {
          "base_uri": "https://localhost:8080/",
          "height": 431
        },
        "id": "NfDokgeYh82_",
        "outputId": "c2a3d3b9-a6b6-40b6-dde3-b6df088867c4"
      },
      "source": [
        "fig, axes = plt.subplots(nrows=2, ncols=3, sharey=True, sharex=True, figsize=(10,6))\n",
        "plt.gcf().suptitle('Tingkat Keselamatan Penumpang Titanic berdasarkan Usia, Kelas, dan Jenis Kelamin',fontsize=16)\n",
        "\n",
        "\n",
        "Class1M = Class1[Class1['Sex']=='male'].copy()\n",
        "Class1M['Age'].groupby(Class1M['Survived']).plot(ax=axes[0,0],kind = 'hist', alpha=0.7,legend=True, title='kelas pertama')\n",
        "Class1F = Class1[Class1['Sex']=='female'].copy()\n",
        "Class1F['Age'].groupby(Class1F['Survived']).plot(ax=axes[1,0],kind = 'hist', alpha=0.7,legend=False)\n",
        "                                                 \n",
        "\n",
        "Class2M = Class2[Class2['Sex']=='male'].copy()\n",
        "Class2M['Age'].groupby(Class2M['Survived']).plot(ax=axes[0,1],kind = 'hist', alpha=0.7,legend=False, title='kelas kedua')\n",
        "Class2F = Class2[Class2['Sex']=='female'].copy()\n",
        "Class2F['Age'].groupby(Class2F['Survived']).plot(ax=axes[1,1],kind = 'hist', alpha=0.7,legend=False)\n",
        "               \n",
        "\n",
        "Class3M = Class3[Class3['Sex']=='male'].copy()\n",
        "Class3M['Age'].groupby(Class3M['Survived']).plot(ax=axes[0,2],kind = 'hist', alpha=0.7,legend=False, title='kelas ketiga')\n",
        "Class3F = Class3[Class3['Sex']=='female'].copy()\n",
        "Class3F['Age'].groupby(Class3F['Survived']).plot(ax=axes[1,2],kind = 'hist', alpha=0.7,legend=False)\n",
        " \n",
        "plt.gcf().text(1, 0.7, 'LAKI-LAKI', style='italic', fontsize=20)    \n",
        "plt.gcf().text(1, 0.3, 'PEREMPUAN', style='italic', fontsize=20)    \n",
        "    \n",
        "plt.xlabel('umur')\n",
        "plt.show()"
      ],
      "execution_count": 18,
      "outputs": [
        {
          "output_type": "display_data",
          "data": {
            "image/png": "[encoded data removed]",
            "text/plain": [
              "<Figure size 720x432 with 6 Axes>"
            ]
          },
          "metadata": {
            "tags": [],
            "needs_background": "light"
          }
        }
      ]
    }
  ]
}